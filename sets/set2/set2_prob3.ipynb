{
  "cells": [
    {
      "cell_type": "markdown",
      "metadata": {
        "id": "view-in-github",
        "colab_type": "text"
      },
      "source": [
        "<a href=\"https://colab.research.google.com/github/charlesincharge/Caltech-CS155-2022/blob/main/sets/set2/set2_prob3.ipynb\" target=\"_parent\"><img src=\"https://colab.research.google.com/assets/colab-badge.svg\" alt=\"Open In Colab\"/></a>"
      ]
    },
    {
      "cell_type": "markdown",
      "metadata": {
        "id": "H8_W0SDRpO1X"
      },
      "source": [
        "# Problem 3 "
      ]
    },
    {
      "cell_type": "markdown",
      "metadata": {
        "id": "j0vhlzehpO1e"
      },
      "source": [
        "Use this notebook to write your code for problem 3. "
      ]
    },
    {
      "cell_type": "code",
      "execution_count": null,
      "metadata": {
        "id": "gmAIcgJgpO1f"
      },
      "outputs": [],
      "source": [
        "import numpy as np\n",
        "from matplotlib import pyplot as plt\n",
        "from numpy import genfromtxt\n",
        "from sklearn.linear_model import Ridge\n",
        "from sklearn.linear_model import Lasso\n",
        "%matplotlib inline"
      ]
    },
    {
      "cell_type": "markdown",
      "metadata": {
        "id": "LAGhrx-xpO1t"
      },
      "source": [
        "## Load data"
      ]
    },
    {
      "cell_type": "code",
      "execution_count": null,
      "metadata": {
        "id": "Yag3bAfXpO1t"
      },
      "outputs": [],
      "source": [
        "# Upload problem3data.txt to a 'data' folder in Google Colab, using the \"Files\"\n",
        "# tab on the left.\n",
        "# (You can also use urllib.request.urlretrieve, as in set 1)\n",
        "train_file = 'data/problem3data.txt'\n",
        "train_data = genfromtxt(train_file, delimiter='\\t')\n",
        "\n",
        "y_train = train_data[:, 9]\n",
        "X_train = train_data[:, :9]"
      ]
    }
  ],
  "metadata": {
    "kernelspec": {
      "display_name": "Python 3",
      "language": "python",
      "name": "python3"
    },
    "language_info": {
      "codemirror_mode": {
        "name": "ipython",
        "version": 3
      },
      "file_extension": ".py",
      "mimetype": "text/x-python",
      "name": "python",
      "nbconvert_exporter": "python",
      "pygments_lexer": "ipython3",
      "version": "3.8.3"
    },
    "colab": {
      "name": "set2_prob3.ipynb",
      "provenance": [],
      "include_colab_link": true
    }
  },
  "nbformat": 4,
  "nbformat_minor": 0
}